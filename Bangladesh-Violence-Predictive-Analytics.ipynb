{
 "cells": [
  {
   "cell_type": "markdown",
   "metadata": {},
   "source": [
    "<img src=\"../src/packt-banner.png\" alt=\"\">"
   ]
  },
  {
   "cell_type": "markdown",
   "metadata": {},
   "source": [
    "# Regression modelling of Bangladesh Incidents using ENSEMBLES\n",
    "--Author:Umar Shehu"
   ]
  },
  {
   "cell_type": "code",
   "execution_count": 1,
   "metadata": {
    "scrolled": true
   },
   "outputs": [
    {
     "name": "stderr",
     "output_type": "stream",
     "text": [
      "C:\\Users\\hadoop\\Anaconda6\\lib\\site-packages\\statsmodels\\compat\\pandas.py:49: FutureWarning: The Panel class is removed from pandas. Accessing it from the top-level namespace will also be removed in the next version\n",
      "  data_klasses = (pandas.Series, pandas.DataFrame, pandas.Panel)\n"
     ]
    }
   ],
   "source": [
    "import pandas as pd\n",
    "import numpy as np\n",
    "import sklearn \n",
    "from pandas import read_excel\n",
    "import numpy as np\n",
    "from sklearn import preprocessing\n",
    "import statsmodels.api as stat\n",
    "import statsmodels.formula.api as sm\n",
    "import scipy.stats as stats\n",
    "import researchpy as rp\n",
    "from statsmodels.formula.api import ols\n",
    "from sklearn.linear_model import ElasticNetCV, ElasticNet\n",
    "from sklearn.linear_model import ElasticNet, Lasso,  BayesianRidge, LassoLarsIC\n",
    "from sklearn.ensemble import RandomForestRegressor,  GradientBoostingRegressor\n",
    "from sklearn.kernel_ridge import KernelRidge\n",
    "from sklearn.pipeline import make_pipeline\n",
    "from sklearn.preprocessing import RobustScaler\n",
    "from sklearn.base import BaseEstimator, TransformerMixin, RegressorMixin, clone\n",
    "from sklearn.model_selection import KFold, cross_val_score, train_test_split\n",
    "from sklearn.metrics import mean_squared_error\n",
    "import xgboost as xgb\n",
    "import lightgbm as lgb\n",
    "import seaborn as sns\n",
    "import matplotlib.pyplot as plt\n",
    "%matplotlib inline\n"
   ]
  },
  {
   "cell_type": "code",
   "execution_count": 2,
   "metadata": {
    "scrolled": true
   },
   "outputs": [
    {
     "data": {
      "application/json": {
       "Software versions": [
        {
         "module": "Python",
         "version": "3.7.1 64bit [MSC v.1915 64 bit (AMD64)]"
        },
        {
         "module": "IPython",
         "version": "7.8.0"
        },
        {
         "module": "OS",
         "version": "Windows 10 10.0.17134 SP0"
        },
        {
         "module": "pandas",
         "version": "0.25.1"
        },
        {
         "module": "numpy",
         "version": "1.17.2"
        },
        {
         "module": "matplotlib",
         "version": "3.0.2"
        },
        {
         "module": "seaborn",
         "version": "0.9.0"
        },
        {
         "module": "sklearn",
         "version": "0.20.1"
        },
        {
         "module": "graphviz",
         "version": "The 'graphviz' distribution was not found and is required by the application"
        },
        {
         "module": "pyodbc",
         "version": "4.0.25"
        },
        {
         "module": "mlxtend",
         "version": "The 'mlxtend' distribution was not found and is required by the application"
        },
        {
         "module": "statsmodels",
         "version": "0.9.0"
        }
       ]
      },
      "text/html": [
       "<table><tr><th>Software</th><th>Version</th></tr><tr><td>Python</td><td>3.7.1 64bit [MSC v.1915 64 bit (AMD64)]</td></tr><tr><td>IPython</td><td>7.8.0</td></tr><tr><td>OS</td><td>Windows 10 10.0.17134 SP0</td></tr><tr><td>pandas</td><td>0.25.1</td></tr><tr><td>numpy</td><td>1.17.2</td></tr><tr><td>matplotlib</td><td>3.0.2</td></tr><tr><td>seaborn</td><td>0.9.0</td></tr><tr><td>sklearn</td><td>0.20.1</td></tr><tr><td>graphviz</td><td>The 'graphviz' distribution was not found and is required by the application</td></tr><tr><td>pyodbc</td><td>4.0.25</td></tr><tr><td>mlxtend</td><td>The 'mlxtend' distribution was not found and is required by the application</td></tr><tr><td>statsmodels</td><td>0.9.0</td></tr><tr><td colspan='2'>Tue Sep 17 20:36:28 2019 GMT Daylight Time</td></tr></table>"
      ],
      "text/latex": [
       "\\begin{tabular}{|l|l|}\\hline\n",
       "{\\bf Software} & {\\bf Version} \\\\ \\hline\\hline\n",
       "Python & 3.7.1 64bit [MSC v.1915 64 bit (AMD64)] \\\\ \\hline\n",
       "IPython & 7.8.0 \\\\ \\hline\n",
       "OS & Windows 10 10.0.17134 SP0 \\\\ \\hline\n",
       "pandas & 0.25.1 \\\\ \\hline\n",
       "numpy & 1.17.2 \\\\ \\hline\n",
       "matplotlib & 3.0.2 \\\\ \\hline\n",
       "seaborn & 0.9.0 \\\\ \\hline\n",
       "sklearn & 0.20.1 \\\\ \\hline\n",
       "graphviz & The 'graphviz' distribution was not found and is required by the application \\\\ \\hline\n",
       "pyodbc & 4.0.25 \\\\ \\hline\n",
       "mlxtend & The 'mlxtend' distribution was not found and is required by the application \\\\ \\hline\n",
       "statsmodels & 0.9.0 \\\\ \\hline\n",
       "\\hline \\multicolumn{2}{|l|}{Tue Sep 17 20:36:28 2019 GMT Daylight Time} \\\\ \\hline\n",
       "\\end{tabular}\n"
      ],
      "text/plain": [
       "Software versions\n",
       "Python 3.7.1 64bit [MSC v.1915 64 bit (AMD64)]\n",
       "IPython 7.8.0\n",
       "OS Windows 10 10.0.17134 SP0\n",
       "pandas 0.25.1\n",
       "numpy 1.17.2\n",
       "matplotlib 3.0.2\n",
       "seaborn 0.9.0\n",
       "sklearn 0.20.1\n",
       "graphviz The 'graphviz' distribution was not found and is required by the application\n",
       "pyodbc 4.0.25\n",
       "mlxtend The 'mlxtend' distribution was not found and is required by the application\n",
       "statsmodels 0.9.0\n",
       "Tue Sep 17 20:36:28 2019 GMT Daylight Time"
      ]
     },
     "execution_count": 2,
     "metadata": {},
     "output_type": "execute_result"
    }
   ],
   "source": [
    "%load_ext version_information\n",
    "%version_information pandas, numpy, matplotlib, seaborn, sklearn, graphviz,pyodbc, mlxtend, statsmodels"
   ]
  },
  {
   "cell_type": "markdown",
   "metadata": {},
   "source": [
    "---"
   ]
  },
  {
   "cell_type": "code",
   "execution_count": 3,
   "metadata": {
    "scrolled": true
   },
   "outputs": [],
   "source": [
    "# Read file\n",
    "df0 = pd.read_csv(\"incident-raw-data2.csv\")"
   ]
  },
  {
   "cell_type": "code",
   "execution_count": 4,
   "metadata": {},
   "outputs": [],
   "source": [
    "df = df0"
   ]
  },
  {
   "cell_type": "code",
   "execution_count": 5,
   "metadata": {
    "scrolled": true
   },
   "outputs": [
    {
     "data": {
      "text/plain": [
       "Index(['eventdate', 'eventsource', 'division', 'district', 'upazilla', 'union',\n",
       "       'viol', 'vdir', 'viotypeone', 'viotypetwo', 'weaptypeone',\n",
       "       'weaptypetwo', 'mtvincidentone', 'mtvincidenttwo', 'crosscutting',\n",
       "       'perpgroup', 'targgroup', 'actorone', 'actortwo', 'actorone_killed',\n",
       "       'actorone_injured', 'actortwo_killed', 'actortwo_injured', 'kiltotal',\n",
       "       'kilfetotal', 'injtotal', 'injfetotal', 'sexasstotal', 'sexassfetotal',\n",
       "       'abdtotal', 'arresttotal', 'damageproperty', 'intervention',\n",
       "       'eventdesc', 'eventurl'],\n",
       "      dtype='object')"
      ]
     },
     "execution_count": 5,
     "metadata": {},
     "output_type": "execute_result"
    }
   ],
   "source": [
    "df.columns"
   ]
  },
  {
   "cell_type": "code",
   "execution_count": 6,
   "metadata": {
    "scrolled": true
   },
   "outputs": [
    {
     "data": {
      "text/plain": [
       "eventdate            0.000000\n",
       "eventsource          0.000000\n",
       "division             0.000000\n",
       "district             0.000000\n",
       "upazilla             0.000000\n",
       "union                0.855115\n",
       "viol                11.821018\n",
       "vdir                50.933097\n",
       "viotypeone           3.156932\n",
       "viotypetwo           0.505539\n",
       "weaptypeone          0.000000\n",
       "weaptypetwo          0.000000\n",
       "mtvincidentone       0.000000\n",
       "mtvincidenttwo       0.000000\n",
       "crosscutting         0.000000\n",
       "perpgroup            0.059159\n",
       "targgroup            0.018823\n",
       "actorone             0.000000\n",
       "actortwo             0.008067\n",
       "actorone_killed      0.000000\n",
       "actorone_injured     0.000000\n",
       "actortwo_killed      0.000000\n",
       "actortwo_injured     0.000000\n",
       "kiltotal             0.000000\n",
       "kilfetotal           0.000000\n",
       "injtotal             0.000000\n",
       "injfetotal           0.000000\n",
       "sexasstotal          0.000000\n",
       "sexassfetotal        0.000000\n",
       "abdtotal             0.000000\n",
       "arresttotal          0.000000\n",
       "damageproperty      90.932559\n",
       "intervention        82.004948\n",
       "eventdesc           11.831774\n",
       "eventurl            14.380983\n",
       "dtype: float64"
      ]
     },
     "execution_count": 6,
     "metadata": {},
     "output_type": "execute_result"
    }
   ],
   "source": [
    "df.isnull().sum() / len(df) * 100"
   ]
  },
  {
   "cell_type": "code",
   "execution_count": 9,
   "metadata": {},
   "outputs": [],
   "source": [
    "df1 = df\n",
    "#Converting object datatype to datetime\n",
    "df1[\"eventdate\"] = pd.to_datetime(df1[\"eventdate\"])\n",
    "#df1[\"arresttotal\"] = df1.arresttotal.fillna(value=0).Int()\n",
    "df1[\"day\"] = df1[\"eventdate\"].dt.day\n",
    "df1[\"month\"] = df1[\"eventdate\"].dt.month\n",
    "df1[\"year\"] = df1[\"eventdate\"].dt.year\n",
    "df1[\"weekday\"] = df1[\"eventdate\"].dt.weekday\n",
    "df1[\"week\"] = df1[\"eventdate\"].dt.week\n",
    "df1[\"quarter\"] = df1[\"eventdate\"].dt.quarter\n",
    "## Created a new column for the total number of persons impacted (injured+killed) as per the data available\n",
    "df1[\"total_impacted\"] = df1[\"kiltotal\"] + df1[\"injtotal\"]"
   ]
  },
  {
   "cell_type": "code",
   "execution_count": 10,
   "metadata": {
    "scrolled": true
   },
   "outputs": [
    {
     "data": {
      "text/plain": [
       "Index(['eventdate', 'eventsource', 'division', 'district', 'upazilla', 'union',\n",
       "       'viol', 'vdir', 'viotypeone', 'viotypetwo', 'weaptypeone',\n",
       "       'weaptypetwo', 'mtvincidentone', 'mtvincidenttwo', 'crosscutting',\n",
       "       'perpgroup', 'targgroup', 'actorone', 'actortwo', 'actorone_killed',\n",
       "       'actorone_injured', 'actortwo_killed', 'actortwo_injured', 'kiltotal',\n",
       "       'kilfetotal', 'injtotal', 'injfetotal', 'sexasstotal', 'sexassfetotal',\n",
       "       'abdtotal', 'arresttotal', 'damageproperty', 'intervention',\n",
       "       'eventdesc', 'eventurl', 'day', 'month', 'year', 'weekday', 'week',\n",
       "       'quarter', 'total_impacted'],\n",
       "      dtype='object')"
      ]
     },
     "execution_count": 10,
     "metadata": {},
     "output_type": "execute_result"
    }
   ],
   "source": [
    "df1.columns"
   ]
  },
  {
   "cell_type": "code",
   "execution_count": 11,
   "metadata": {},
   "outputs": [],
   "source": [
    "#set engineering feature and target variables for analysis\n",
    "engfeat = 'vdir'\n",
    "targt = 'total_impacted'"
   ]
  },
  {
   "cell_type": "code",
   "execution_count": 12,
   "metadata": {},
   "outputs": [],
   "source": [
    "df1 = df1.fillna(value=0)"
   ]
  },
  {
   "cell_type": "code",
   "execution_count": 13,
   "metadata": {
    "scrolled": true
   },
   "outputs": [
    {
     "data": {
      "text/plain": [
       "(18769, 42)"
      ]
     },
     "execution_count": 13,
     "metadata": {},
     "output_type": "execute_result"
    }
   ],
   "source": [
    "#filter out zeros in target variable\n",
    "df1 = df1[df1[targt]!=0]\n",
    "df1.shape"
   ]
  },
  {
   "cell_type": "code",
   "execution_count": 16,
   "metadata": {},
   "outputs": [],
   "source": [
    "features = [\n",
    "          #  'eventdate', \n",
    "    'eventsource', \n",
    "    'division', \n",
    "    'district', \n",
    "    'upazilla', \n",
    "    'union',\n",
    "    'viol', \n",
    "    'vdir', \n",
    "    'viotypeone', \n",
    "    'viotypetwo', \n",
    "    'weaptypeone',\n",
    "    'weaptypetwo', \n",
    "    'mtvincidentone', \n",
    "    'mtvincidenttwo', \n",
    "    'crosscutting',\n",
    "    'perpgroup', \n",
    "    'targgroup', \n",
    "    'actorone', \n",
    "    'actortwo', \n",
    "    'actorone_killed',\n",
    "    'actorone_injured', \n",
    "    'actortwo_killed', \n",
    "    'actortwo_injured', \n",
    "    #'kiltotal',\n",
    "    #'kilfetotal', \n",
    "    #'injtotal', \n",
    "    #'injfetotal', \n",
    "    #'sexasstotal', \n",
    "    #'sexassfetotal',\n",
    "    #'abdtotal', \n",
    "   # 'arresttotal', \n",
    "    #'damageproperty', \n",
    "    'intervention',\n",
    "    #'eventdesc', \n",
    "    #'eventurl', \n",
    "    'day', \n",
    "    'month', \n",
    "    'year', \n",
    "    'weekday', \n",
    "    'week',\n",
    "    'quarter', \n",
    "    targt,\n",
    "    \n",
    "           ]\n",
    "df1 = df1[features]"
   ]
  },
  {
   "cell_type": "code",
   "execution_count": 17,
   "metadata": {},
   "outputs": [],
   "source": [
    "#we fit a regression line using the Ordinary Least Square algorithm\n",
    "import statsmodels.api as stat\n",
    "import statsmodels.formula.api as sm\n",
    "import scipy.stats as stats\n",
    "import researchpy as rp\n",
    "from statsmodels.formula.api import ols"
   ]
  },
  {
   "cell_type": "code",
   "execution_count": 18,
   "metadata": {},
   "outputs": [
    {
     "data": {
      "text/plain": [
       "eventsource          object\n",
       "division             object\n",
       "district             object\n",
       "upazilla             object\n",
       "union                object\n",
       "viol                 object\n",
       "vdir                float64\n",
       "viotypeone           object\n",
       "viotypetwo           object\n",
       "weaptypeone          object\n",
       "weaptypetwo          object\n",
       "mtvincidentone       object\n",
       "mtvincidenttwo       object\n",
       "crosscutting         object\n",
       "perpgroup            object\n",
       "targgroup            object\n",
       "actorone             object\n",
       "actortwo             object\n",
       "actorone_killed       int64\n",
       "actorone_injured      int64\n",
       "actortwo_killed       int64\n",
       "actortwo_injured      int64\n",
       "intervention         object\n",
       "day                   int64\n",
       "month                 int64\n",
       "year                  int64\n",
       "weekday               int64\n",
       "week                  int64\n",
       "quarter               int64\n",
       "total_impacted        int64\n",
       "dtype: object"
      ]
     },
     "execution_count": 18,
     "metadata": {},
     "output_type": "execute_result"
    }
   ],
   "source": [
    "df1.dtypes"
   ]
  },
  {
   "cell_type": "code",
   "execution_count": 19,
   "metadata": {
    "scrolled": false
   },
   "outputs": [
    {
     "data": {
      "text/plain": [
       "<matplotlib.axes._subplots.AxesSubplot at 0x1ed4d46c5f8>"
      ]
     },
     "execution_count": 19,
     "metadata": {},
     "output_type": "execute_result"
    },
    {
     "data": {
      "image/png": "[encoded data removed]",
      "text/plain": [
       "<Figure size 864x648 with 2 Axes>"
      ]
     },
     "metadata": {
      "needs_background": "light"
     },
     "output_type": "display_data"
    }
   ],
   "source": [
    "#data correlation\n",
    "corrmat = df1.corr()\n",
    "plt.subplots(figsize=(12,9))\n",
    "sns.heatmap(corrmat, vmax=0.9, square=True)"
   ]
  },
  {
   "cell_type": "code",
   "execution_count": 20,
   "metadata": {},
   "outputs": [
    {
     "name": "stderr",
     "output_type": "stream",
     "text": [
      "C:\\Users\\hadoop\\Anaconda6\\lib\\site-packages\\pandas\\core\\frame.py:4102: SettingWithCopyWarning: \n",
      "A value is trying to be set on a copy of a slice from a DataFrame\n",
      "\n",
      "See the caveats in the documentation: http://pandas.pydata.org/pandas-docs/stable/user_guide/indexing.html#returning-a-view-versus-a-copy\n",
      "  errors=errors,\n"
     ]
    }
   ],
   "source": [
    "# split data into train and test data\n",
    "msk = np.random.rand(len(df1)) < 0.8\n",
    "train = df1[msk]\n",
    "test = df1[~msk]\n",
    "y_test = test[targt]\n",
    "#drop Activity from test data\n",
    "test.drop([targt], axis=1, inplace=True)"
   ]
  },
  {
   "cell_type": "code",
   "execution_count": 21,
   "metadata": {
    "scrolled": true
   },
   "outputs": [
    {
     "name": "stderr",
     "output_type": "stream",
     "text": [
      "C:\\Users\\hadoop\\Anaconda6\\lib\\site-packages\\ipykernel_launcher.py:19: SettingWithCopyWarning: \n",
      "A value is trying to be set on a copy of a slice from a DataFrame.\n",
      "Try using .loc[row_indexer,col_indexer] = value instead\n",
      "\n",
      "See the caveats in the documentation: http://pandas.pydata.org/pandas-docs/stable/user_guide/indexing.html#returning-a-view-versus-a-copy\n"
     ]
    },
    {
     "name": "stdout",
     "output_type": "stream",
     "text": [
      "Shape of train: (15119, 30)\n"
     ]
    }
   ],
   "source": [
    "#automatically encode multiple category columns using label encoder\n",
    "from sklearn.preprocessing import LabelEncoder\n",
    "cols = (\n",
    "        'eventsource', 'division', 'district', 'upazilla', 'union', 'viol',\n",
    "       'vdir', 'viotypeone', 'viotypetwo', 'weaptypeone', 'weaptypetwo',\n",
    "       'mtvincidentone', 'mtvincidenttwo', 'crosscutting', 'perpgroup',\n",
    "       'targgroup', 'actorone', 'actortwo', 'actorone_killed',\n",
    "       'actorone_injured', 'actortwo_killed', 'actortwo_injured',\n",
    "       'intervention', 'day', 'month', 'year',\n",
    "       'weekday', 'week', 'quarter'\n",
    "       )\n",
    "\n",
    "\n",
    "\n",
    " #process columns, apply LabelEncoder to categorical features\n",
    "for c in cols:\n",
    "    lbl = LabelEncoder() \n",
    "    lbl.fit(list(train[c].values)) \n",
    "    train[c] = lbl.transform(list(train[c].values))\n",
    "\n",
    " #shape        \n",
    "print('Shape of train: {}'.format(train.shape))"
   ]
  },
  {
   "cell_type": "code",
   "execution_count": 22,
   "metadata": {},
   "outputs": [
    {
     "name": "stdout",
     "output_type": "stream",
     "text": [
      "Shape test: (3650, 29)\n"
     ]
    },
    {
     "name": "stderr",
     "output_type": "stream",
     "text": [
      "C:\\Users\\hadoop\\Anaconda6\\lib\\site-packages\\ipykernel_launcher.py:16: SettingWithCopyWarning: \n",
      "A value is trying to be set on a copy of a slice from a DataFrame.\n",
      "Try using .loc[row_indexer,col_indexer] = value instead\n",
      "\n",
      "See the caveats in the documentation: http://pandas.pydata.org/pandas-docs/stable/user_guide/indexing.html#returning-a-view-versus-a-copy\n",
      "  app.launch_new_instance()\n"
     ]
    }
   ],
   "source": [
    "#automatically encode multiple category columns using label encoder\n",
    "from sklearn.preprocessing import LabelEncoder\n",
    "cols = (\n",
    "        'eventsource', 'division', 'district', 'upazilla', 'union', 'viol',\n",
    "       'vdir', 'viotypeone', 'viotypetwo', 'weaptypeone', 'weaptypetwo',\n",
    "       'mtvincidentone', 'mtvincidenttwo', 'crosscutting', 'perpgroup',\n",
    "       'targgroup', 'actorone', 'actortwo', 'actorone_killed',\n",
    "       'actorone_injured', 'actortwo_killed', 'actortwo_injured',\n",
    "       'intervention', 'day', 'month', 'year',\n",
    "       'weekday', 'week', 'quarter'\n",
    "       )\n",
    " #process columns, apply LabelEncoder to categorical features\n",
    "for c in cols:\n",
    "    lbl = LabelEncoder() \n",
    "    lbl.fit(list(test[c].values)) \n",
    "    test[c] = lbl.transform(list(test[c].values))\n",
    "\n",
    " #shape        \n",
    "print('Shape test: {}'.format(test.shape))"
   ]
  },
  {
   "cell_type": "code",
   "execution_count": 23,
   "metadata": {
    "scrolled": false
   },
   "outputs": [
    {
     "name": "stderr",
     "output_type": "stream",
     "text": [
      "C:\\Users\\hadoop\\Anaconda6\\lib\\site-packages\\scipy\\stats\\stats.py:1713: FutureWarning: Using a non-tuple sequence for multidimensional indexing is deprecated; use `arr[tuple(seq)]` instead of `arr[seq]`. In the future this will be interpreted as an array index, `arr[np.array(seq)]`, which will result either in an error or a different result.\n",
      "  return np.add.reduce(sorted[indexer] * weights, axis=axis) / sumval\n"
     ]
    },
    {
     "name": "stdout",
     "output_type": "stream",
     "text": [
      "\n",
      " mu = 4.87 and sigma = 13.93\n",
      "\n"
     ]
    },
    {
     "data": {
      "image/png": "[encoded data removed]",
      "text/plain": [
       "<Figure size 432x288 with 1 Axes>"
      ]
     },
     "metadata": {
      "needs_background": "light"
     },
     "output_type": "display_data"
    },
    {
     "data": {
      "image/png": "[encoded data removed]",
      "text/plain": [
       "<Figure size 432x288 with 1 Axes>"
      ]
     },
     "metadata": {
      "needs_background": "light"
     },
     "output_type": "display_data"
    }
   ],
   "source": [
    "from scipy.stats import norm, skew\n",
    "#Explore the shape of activity target variable - The target variable is right skewed. As (linear) models love normally distributed data , we need to transform this variable and make it more normally distributed.\n",
    "sns.distplot(train[targt] , fit=norm);\n",
    "\n",
    "# Get the fitted parameters used by the function\n",
    "(mu, sigma) = norm.fit(train[targt])\n",
    "print( '\\n mu = {:.2f} and sigma = {:.2f}\\n'.format(mu, sigma))\n",
    "\n",
    "#Now plot the distribution\n",
    "plt.legend(['Normal dist. ($\\mu=$ {:.2f} and $\\sigma=$ {:.2f} )'.format(mu, sigma)],\n",
    "            loc='best')\n",
    "plt.ylabel('Frequency')\n",
    "plt.title('Total Impacted distribution')\n",
    "\n",
    "#Get also the QQ-plot\n",
    "fig = plt.figure()\n",
    "res = stats.probplot(train[targt], plot=plt)\n",
    "plt.show()"
   ]
  },
  {
   "cell_type": "code",
   "execution_count": 24,
   "metadata": {},
   "outputs": [
    {
     "name": "stderr",
     "output_type": "stream",
     "text": [
      "C:\\Users\\hadoop\\Anaconda6\\lib\\site-packages\\ipykernel_launcher.py:3: SettingWithCopyWarning: \n",
      "A value is trying to be set on a copy of a slice from a DataFrame.\n",
      "Try using .loc[row_indexer,col_indexer] = value instead\n",
      "\n",
      "See the caveats in the documentation: http://pandas.pydata.org/pandas-docs/stable/user_guide/indexing.html#returning-a-view-versus-a-copy\n",
      "  This is separate from the ipykernel package so we can avoid doing imports until\n"
     ]
    },
    {
     "name": "stdout",
     "output_type": "stream",
     "text": [
      "\n",
      " mu = 1.20 and sigma = 0.84\n",
      "\n"
     ]
    },
    {
     "data": {
      "image/png": "[encoded data removed]",
      "text/plain": [
       "<Figure size 432x288 with 1 Axes>"
      ]
     },
     "metadata": {
      "needs_background": "light"
     },
     "output_type": "display_data"
    },
    {
     "data": {
      "image/png": "[encoded data removed]",
      "text/plain": [
       "<Figure size 432x288 with 1 Axes>"
      ]
     },
     "metadata": {
      "needs_background": "light"
     },
     "output_type": "display_data"
    }
   ],
   "source": [
    "#Log-transformation of the train target variable\n",
    "#We use the numpy fuction log1p which  applies log(1+x) to all elements of the column\n",
    "train[targt] = np.log1p(train[targt])\n",
    "\n",
    "#Check the new distribution \n",
    "sns.distplot(train[targt] , fit=norm);\n",
    "\n",
    "# Get the fitted parameters used by the function\n",
    "(mu, sigma) = norm.fit(train[targt])\n",
    "print( '\\n mu = {:.2f} and sigma = {:.2f}\\n'.format(mu, sigma))\n",
    "\n",
    "#Now plot the distribution\n",
    "plt.legend(['Normal dist. ($\\mu=$ {:.2f} and $\\sigma=$ {:.2f} )'.format(mu, sigma)],\n",
    "            loc='best')\n",
    "plt.ylabel('Frequency')\n",
    "plt.title('Total Impacted')\n",
    "\n",
    "#Get also the QQ-plot\n",
    "fig = plt.figure()\n",
    "res = stats.probplot(train[targt], plot=plt)\n",
    "plt.show()\n",
    "#The skew seems now corrected and the data appears more normally distributed"
   ]
  },
  {
   "cell_type": "code",
   "execution_count": 25,
   "metadata": {},
   "outputs": [
    {
     "name": "stdout",
     "output_type": "stream",
     "text": [
      "all_data size is : (18769, 29)\n"
     ]
    },
    {
     "name": "stderr",
     "output_type": "stream",
     "text": [
      "C:\\Users\\hadoop\\Anaconda6\\lib\\site-packages\\ipykernel_launcher.py:5: FutureWarning: Sorting because non-concatenation axis is not aligned. A future version\n",
      "of pandas will change to not sort by default.\n",
      "\n",
      "To accept the future behavior, pass 'sort=False'.\n",
      "\n",
      "To retain the current behavior and silence the warning, pass 'sort=True'.\n",
      "\n",
      "  \"\"\"\n"
     ]
    }
   ],
   "source": [
    "# concatenate the train and test data in the same dataframe\n",
    "ntrain = train.shape[0]\n",
    "ntest = test.shape[0]\n",
    "y_train = train[targt].values\n",
    "all_data = pd.concat((train, test)).reset_index(drop=True)\n",
    "all_data.drop([targt], axis=1, inplace=True)\n",
    "print(\"all_data size is : {}\".format(all_data.shape))"
   ]
  },
  {
   "cell_type": "code",
   "execution_count": 26,
   "metadata": {},
   "outputs": [
    {
     "data": {
      "text/html": [
       "<div>\n",
       "<style scoped>\n",
       "    .dataframe tbody tr th:only-of-type {\n",
       "        vertical-align: middle;\n",
       "    }\n",
       "\n",
       "    .dataframe tbody tr th {\n",
       "        vertical-align: top;\n",
       "    }\n",
       "\n",
       "    .dataframe thead th {\n",
       "        text-align: right;\n",
       "    }\n",
       "</style>\n",
       "<table border=\"1\" class=\"dataframe\">\n",
       "  <thead>\n",
       "    <tr style=\"text-align: right;\">\n",
       "      <th></th>\n",
       "      <th>Missing Ratio</th>\n",
       "    </tr>\n",
       "  </thead>\n",
       "  <tbody>\n",
       "  </tbody>\n",
       "</table>\n",
       "</div>"
      ],
      "text/plain": [
       "Empty DataFrame\n",
       "Columns: [Missing Ratio]\n",
       "Index: []"
      ]
     },
     "execution_count": 26,
     "metadata": {},
     "output_type": "execute_result"
    }
   ],
   "source": [
    "#missing data\n",
    "all_data_na = (all_data.isnull().sum() / len(all_data)) * 100\n",
    "all_data_na = all_data_na.drop(all_data_na[all_data_na == 0].index).sort_values(ascending=False)[:30]\n",
    "missing_data = pd.DataFrame({'Missing Ratio' :all_data_na})\n",
    "missing_data.head(20)"
   ]
  },
  {
   "cell_type": "code",
   "execution_count": 29,
   "metadata": {},
   "outputs": [],
   "source": [
    "#Getting the new train and test sets.\n",
    "train = all_data[:ntrain]\n",
    "test = all_data[ntrain:]"
   ]
  },
  {
   "cell_type": "code",
   "execution_count": 30,
   "metadata": {},
   "outputs": [
    {
     "data": {
      "text/html": [
       "<div>\n",
       "<style scoped>\n",
       "    .dataframe tbody tr th:only-of-type {\n",
       "        vertical-align: middle;\n",
       "    }\n",
       "\n",
       "    .dataframe tbody tr th {\n",
       "        vertical-align: top;\n",
       "    }\n",
       "\n",
       "    .dataframe thead th {\n",
       "        text-align: right;\n",
       "    }\n",
       "</style>\n",
       "<table border=\"1\" class=\"dataframe\">\n",
       "  <thead>\n",
       "    <tr style=\"text-align: right;\">\n",
       "      <th></th>\n",
       "      <th>actorone</th>\n",
       "      <th>actorone_injured</th>\n",
       "      <th>actorone_killed</th>\n",
       "      <th>actortwo</th>\n",
       "      <th>actortwo_injured</th>\n",
       "      <th>actortwo_killed</th>\n",
       "      <th>crosscutting</th>\n",
       "      <th>day</th>\n",
       "      <th>district</th>\n",
       "      <th>division</th>\n",
       "      <th>...</th>\n",
       "      <th>upazilla</th>\n",
       "      <th>vdir</th>\n",
       "      <th>viol</th>\n",
       "      <th>viotypeone</th>\n",
       "      <th>viotypetwo</th>\n",
       "      <th>weaptypeone</th>\n",
       "      <th>weaptypetwo</th>\n",
       "      <th>week</th>\n",
       "      <th>weekday</th>\n",
       "      <th>year</th>\n",
       "    </tr>\n",
       "  </thead>\n",
       "  <tbody>\n",
       "    <tr>\n",
       "      <td>15119</td>\n",
       "      <td>0</td>\n",
       "      <td>0</td>\n",
       "      <td>0</td>\n",
       "      <td>0</td>\n",
       "      <td>0</td>\n",
       "      <td>0</td>\n",
       "      <td>3</td>\n",
       "      <td>8</td>\n",
       "      <td>11</td>\n",
       "      <td>1</td>\n",
       "      <td>...</td>\n",
       "      <td>334</td>\n",
       "      <td>1</td>\n",
       "      <td>2</td>\n",
       "      <td>3</td>\n",
       "      <td>0</td>\n",
       "      <td>2</td>\n",
       "      <td>0</td>\n",
       "      <td>27</td>\n",
       "      <td>0</td>\n",
       "      <td>0</td>\n",
       "    </tr>\n",
       "    <tr>\n",
       "      <td>15120</td>\n",
       "      <td>0</td>\n",
       "      <td>0</td>\n",
       "      <td>0</td>\n",
       "      <td>0</td>\n",
       "      <td>0</td>\n",
       "      <td>0</td>\n",
       "      <td>3</td>\n",
       "      <td>8</td>\n",
       "      <td>6</td>\n",
       "      <td>1</td>\n",
       "      <td>...</td>\n",
       "      <td>337</td>\n",
       "      <td>1</td>\n",
       "      <td>2</td>\n",
       "      <td>3</td>\n",
       "      <td>0</td>\n",
       "      <td>7</td>\n",
       "      <td>0</td>\n",
       "      <td>35</td>\n",
       "      <td>6</td>\n",
       "      <td>0</td>\n",
       "    </tr>\n",
       "    <tr>\n",
       "      <td>15121</td>\n",
       "      <td>0</td>\n",
       "      <td>0</td>\n",
       "      <td>0</td>\n",
       "      <td>0</td>\n",
       "      <td>1</td>\n",
       "      <td>0</td>\n",
       "      <td>3</td>\n",
       "      <td>15</td>\n",
       "      <td>39</td>\n",
       "      <td>4</td>\n",
       "      <td>...</td>\n",
       "      <td>335</td>\n",
       "      <td>1</td>\n",
       "      <td>2</td>\n",
       "      <td>3</td>\n",
       "      <td>0</td>\n",
       "      <td>8</td>\n",
       "      <td>0</td>\n",
       "      <td>36</td>\n",
       "      <td>6</td>\n",
       "      <td>0</td>\n",
       "    </tr>\n",
       "    <tr>\n",
       "      <td>15122</td>\n",
       "      <td>0</td>\n",
       "      <td>0</td>\n",
       "      <td>0</td>\n",
       "      <td>0</td>\n",
       "      <td>0</td>\n",
       "      <td>0</td>\n",
       "      <td>3</td>\n",
       "      <td>9</td>\n",
       "      <td>9</td>\n",
       "      <td>1</td>\n",
       "      <td>...</td>\n",
       "      <td>438</td>\n",
       "      <td>1</td>\n",
       "      <td>2</td>\n",
       "      <td>3</td>\n",
       "      <td>0</td>\n",
       "      <td>8</td>\n",
       "      <td>0</td>\n",
       "      <td>1</td>\n",
       "      <td>2</td>\n",
       "      <td>0</td>\n",
       "    </tr>\n",
       "    <tr>\n",
       "      <td>15123</td>\n",
       "      <td>0</td>\n",
       "      <td>0</td>\n",
       "      <td>0</td>\n",
       "      <td>0</td>\n",
       "      <td>0</td>\n",
       "      <td>0</td>\n",
       "      <td>3</td>\n",
       "      <td>11</td>\n",
       "      <td>47</td>\n",
       "      <td>1</td>\n",
       "      <td>...</td>\n",
       "      <td>196</td>\n",
       "      <td>1</td>\n",
       "      <td>2</td>\n",
       "      <td>3</td>\n",
       "      <td>0</td>\n",
       "      <td>1</td>\n",
       "      <td>0</td>\n",
       "      <td>49</td>\n",
       "      <td>4</td>\n",
       "      <td>1</td>\n",
       "    </tr>\n",
       "  </tbody>\n",
       "</table>\n",
       "<p>5 rows × 29 columns</p>\n",
       "</div>"
      ],
      "text/plain": [
       "       actorone  actorone_injured  actorone_killed  actortwo  \\\n",
       "15119         0                 0                0         0   \n",
       "15120         0                 0                0         0   \n",
       "15121         0                 0                0         0   \n",
       "15122         0                 0                0         0   \n",
       "15123         0                 0                0         0   \n",
       "\n",
       "       actortwo_injured  actortwo_killed  crosscutting  day  district  \\\n",
       "15119                 0                0             3    8        11   \n",
       "15120                 0                0             3    8         6   \n",
       "15121                 1                0             3   15        39   \n",
       "15122                 0                0             3    9         9   \n",
       "15123                 0                0             3   11        47   \n",
       "\n",
       "       division  ...  upazilla  vdir  viol  viotypeone  viotypetwo  \\\n",
       "15119         1  ...       334     1     2           3           0   \n",
       "15120         1  ...       337     1     2           3           0   \n",
       "15121         4  ...       335     1     2           3           0   \n",
       "15122         1  ...       438     1     2           3           0   \n",
       "15123         1  ...       196     1     2           3           0   \n",
       "\n",
       "       weaptypeone  weaptypetwo  week  weekday  year  \n",
       "15119            2            0    27        0     0  \n",
       "15120            7            0    35        6     0  \n",
       "15121            8            0    36        6     0  \n",
       "15122            8            0     1        2     0  \n",
       "15123            1            0    49        4     1  \n",
       "\n",
       "[5 rows x 29 columns]"
      ]
     },
     "execution_count": 30,
     "metadata": {},
     "output_type": "execute_result"
    }
   ],
   "source": [
    "test.head()"
   ]
  },
  {
   "cell_type": "code",
   "execution_count": 31,
   "metadata": {},
   "outputs": [
    {
     "data": {
      "text/html": [
       "<div>\n",
       "<style scoped>\n",
       "    .dataframe tbody tr th:only-of-type {\n",
       "        vertical-align: middle;\n",
       "    }\n",
       "\n",
       "    .dataframe tbody tr th {\n",
       "        vertical-align: top;\n",
       "    }\n",
       "\n",
       "    .dataframe thead th {\n",
       "        text-align: right;\n",
       "    }\n",
       "</style>\n",
       "<table border=\"1\" class=\"dataframe\">\n",
       "  <thead>\n",
       "    <tr style=\"text-align: right;\">\n",
       "      <th></th>\n",
       "      <th>actorone</th>\n",
       "      <th>actorone_injured</th>\n",
       "      <th>actorone_killed</th>\n",
       "      <th>actortwo</th>\n",
       "      <th>actortwo_injured</th>\n",
       "      <th>actortwo_killed</th>\n",
       "      <th>crosscutting</th>\n",
       "      <th>day</th>\n",
       "      <th>district</th>\n",
       "      <th>division</th>\n",
       "      <th>...</th>\n",
       "      <th>upazilla</th>\n",
       "      <th>vdir</th>\n",
       "      <th>viol</th>\n",
       "      <th>viotypeone</th>\n",
       "      <th>viotypetwo</th>\n",
       "      <th>weaptypeone</th>\n",
       "      <th>weaptypetwo</th>\n",
       "      <th>week</th>\n",
       "      <th>weekday</th>\n",
       "      <th>year</th>\n",
       "    </tr>\n",
       "  </thead>\n",
       "  <tbody>\n",
       "    <tr>\n",
       "      <td>0</td>\n",
       "      <td>55</td>\n",
       "      <td>0</td>\n",
       "      <td>0</td>\n",
       "      <td>59</td>\n",
       "      <td>0</td>\n",
       "      <td>0</td>\n",
       "      <td>3</td>\n",
       "      <td>8</td>\n",
       "      <td>13</td>\n",
       "      <td>2</td>\n",
       "      <td>...</td>\n",
       "      <td>479</td>\n",
       "      <td>2</td>\n",
       "      <td>2</td>\n",
       "      <td>4</td>\n",
       "      <td>0</td>\n",
       "      <td>2</td>\n",
       "      <td>0</td>\n",
       "      <td>35</td>\n",
       "      <td>6</td>\n",
       "      <td>0</td>\n",
       "    </tr>\n",
       "    <tr>\n",
       "      <td>1</td>\n",
       "      <td>0</td>\n",
       "      <td>0</td>\n",
       "      <td>0</td>\n",
       "      <td>0</td>\n",
       "      <td>0</td>\n",
       "      <td>0</td>\n",
       "      <td>3</td>\n",
       "      <td>8</td>\n",
       "      <td>47</td>\n",
       "      <td>1</td>\n",
       "      <td>...</td>\n",
       "      <td>61</td>\n",
       "      <td>1</td>\n",
       "      <td>2</td>\n",
       "      <td>3</td>\n",
       "      <td>7</td>\n",
       "      <td>9</td>\n",
       "      <td>0</td>\n",
       "      <td>40</td>\n",
       "      <td>1</td>\n",
       "      <td>0</td>\n",
       "    </tr>\n",
       "    <tr>\n",
       "      <td>2</td>\n",
       "      <td>3</td>\n",
       "      <td>0</td>\n",
       "      <td>0</td>\n",
       "      <td>15</td>\n",
       "      <td>1</td>\n",
       "      <td>0</td>\n",
       "      <td>3</td>\n",
       "      <td>15</td>\n",
       "      <td>9</td>\n",
       "      <td>1</td>\n",
       "      <td>...</td>\n",
       "      <td>168</td>\n",
       "      <td>2</td>\n",
       "      <td>2</td>\n",
       "      <td>4</td>\n",
       "      <td>3</td>\n",
       "      <td>9</td>\n",
       "      <td>0</td>\n",
       "      <td>36</td>\n",
       "      <td>6</td>\n",
       "      <td>0</td>\n",
       "    </tr>\n",
       "    <tr>\n",
       "      <td>3</td>\n",
       "      <td>0</td>\n",
       "      <td>0</td>\n",
       "      <td>0</td>\n",
       "      <td>0</td>\n",
       "      <td>1</td>\n",
       "      <td>0</td>\n",
       "      <td>3</td>\n",
       "      <td>19</td>\n",
       "      <td>27</td>\n",
       "      <td>3</td>\n",
       "      <td>...</td>\n",
       "      <td>283</td>\n",
       "      <td>1</td>\n",
       "      <td>2</td>\n",
       "      <td>3</td>\n",
       "      <td>0</td>\n",
       "      <td>5</td>\n",
       "      <td>0</td>\n",
       "      <td>37</td>\n",
       "      <td>3</td>\n",
       "      <td>0</td>\n",
       "    </tr>\n",
       "    <tr>\n",
       "      <td>4</td>\n",
       "      <td>3</td>\n",
       "      <td>0</td>\n",
       "      <td>0</td>\n",
       "      <td>15</td>\n",
       "      <td>0</td>\n",
       "      <td>0</td>\n",
       "      <td>3</td>\n",
       "      <td>9</td>\n",
       "      <td>55</td>\n",
       "      <td>6</td>\n",
       "      <td>...</td>\n",
       "      <td>441</td>\n",
       "      <td>2</td>\n",
       "      <td>2</td>\n",
       "      <td>3</td>\n",
       "      <td>7</td>\n",
       "      <td>2</td>\n",
       "      <td>7</td>\n",
       "      <td>1</td>\n",
       "      <td>2</td>\n",
       "      <td>0</td>\n",
       "    </tr>\n",
       "  </tbody>\n",
       "</table>\n",
       "<p>5 rows × 29 columns</p>\n",
       "</div>"
      ],
      "text/plain": [
       "   actorone  actorone_injured  actorone_killed  actortwo  actortwo_injured  \\\n",
       "0        55                 0                0        59                 0   \n",
       "1         0                 0                0         0                 0   \n",
       "2         3                 0                0        15                 1   \n",
       "3         0                 0                0         0                 1   \n",
       "4         3                 0                0        15                 0   \n",
       "\n",
       "   actortwo_killed  crosscutting  day  district  division  ...  upazilla  \\\n",
       "0                0             3    8        13         2  ...       479   \n",
       "1                0             3    8        47         1  ...        61   \n",
       "2                0             3   15         9         1  ...       168   \n",
       "3                0             3   19        27         3  ...       283   \n",
       "4                0             3    9        55         6  ...       441   \n",
       "\n",
       "   vdir  viol  viotypeone  viotypetwo  weaptypeone  weaptypetwo  week  \\\n",
       "0     2     2           4           0            2            0    35   \n",
       "1     1     2           3           7            9            0    40   \n",
       "2     2     2           4           3            9            0    36   \n",
       "3     1     2           3           0            5            0    37   \n",
       "4     2     2           3           7            2            7     1   \n",
       "\n",
       "   weekday  year  \n",
       "0        6     0  \n",
       "1        1     0  \n",
       "2        6     0  \n",
       "3        3     0  \n",
       "4        2     0  \n",
       "\n",
       "[5 rows x 29 columns]"
      ]
     },
     "execution_count": 31,
     "metadata": {},
     "output_type": "execute_result"
    }
   ],
   "source": [
    "train.head()"
   ]
  },
  {
   "cell_type": "markdown",
   "metadata": {},
   "source": [
    "# Start ElasticNet Regression for Feature Importance"
   ]
  },
  {
   "cell_type": "code",
   "execution_count": 32,
   "metadata": {},
   "outputs": [],
   "source": [
    "# Let's perform a cross-validation to find the best combination of alpha and l1_ratio\n",
    "from sklearn.linear_model import ElasticNetCV, ElasticNet\n",
    "\n",
    "cv_model = ElasticNetCV(l1_ratio=[.1, .5, .7, .9, .95, .99, .995, 1], eps=0.001, n_alphas=100, fit_intercept=True, \n",
    "                        normalize=True, precompute='auto', max_iter=2000, tol=0.0001, cv=5, \n",
    "                        copy_X=True, verbose=0, n_jobs=-1, positive=False, random_state=None, selection='cyclic')"
   ]
  },
  {
   "cell_type": "code",
   "execution_count": 33,
   "metadata": {},
   "outputs": [
    {
     "data": {
      "text/plain": [
       "ElasticNetCV(alphas=None, copy_X=True, cv=5, eps=0.001, fit_intercept=True,\n",
       "       l1_ratio=[0.1, 0.5, 0.7, 0.9, 0.95, 0.99, 0.995, 1], max_iter=2000,\n",
       "       n_alphas=100, n_jobs=-1, normalize=True, positive=False,\n",
       "       precompute='auto', random_state=None, selection='cyclic',\n",
       "       tol=0.0001, verbose=0)"
      ]
     },
     "execution_count": 33,
     "metadata": {},
     "output_type": "execute_result"
    }
   ],
   "source": [
    "cv_model.fit(train, y_train)"
   ]
  },
  {
   "cell_type": "code",
   "execution_count": 34,
   "metadata": {},
   "outputs": [
    {
     "name": "stdout",
     "output_type": "stream",
     "text": [
      "Optimal alpha: 0.00001320\n",
      "Optimal l1_ratio: 0.500\n",
      "Number of iterations 34\n"
     ]
    }
   ],
   "source": [
    "print('Optimal alpha: %.8f'%cv_model.alpha_)\n",
    "print('Optimal l1_ratio: %.3f'%cv_model.l1_ratio_)\n",
    "print('Number of iterations %d'%cv_model.n_iter_)"
   ]
  },
  {
   "cell_type": "code",
   "execution_count": 35,
   "metadata": {},
   "outputs": [
    {
     "data": {
      "text/plain": [
       "ElasticNet(alpha=1.3197397914894955e-05, copy_X=True, fit_intercept=True,\n",
       "      l1_ratio=0.5, max_iter=34, normalize=True, positive=False,\n",
       "      precompute=False, random_state=None, selection='cyclic', tol=0.0001,\n",
       "      warm_start=False)"
      ]
     },
     "execution_count": 35,
     "metadata": {},
     "output_type": "execute_result"
    }
   ],
   "source": [
    "# train model with best parameters from CV\n",
    "model = ElasticNet(l1_ratio=cv_model.l1_ratio_, alpha = cv_model.alpha_, max_iter=cv_model.n_iter_, fit_intercept=True, normalize = True)\n",
    "model.fit(train, y_train)"
   ]
  },
  {
   "cell_type": "code",
   "execution_count": 36,
   "metadata": {},
   "outputs": [
    {
     "name": "stdout",
     "output_type": "stream",
     "text": [
      "0.454444342270513\n"
     ]
    }
   ],
   "source": [
    "# r2 score on training dataset\n",
    "from sklearn import preprocessing\n",
    "from sklearn.metrics import r2_score\n",
    "print(r2_score(y_train, model.predict(train)))"
   ]
  },
  {
   "cell_type": "code",
   "execution_count": 37,
   "metadata": {},
   "outputs": [
    {
     "name": "stdout",
     "output_type": "stream",
     "text": [
      "[ 2.33357716e-03  4.37274549e-02  1.59625439e-01  1.77700008e-03\n",
      "  7.39606882e-02 -1.29323247e-01 -4.84123313e-03 -7.07246137e-04\n",
      "  6.96299487e-04  4.35302700e-03  8.31113601e-03  1.81007706e-03\n",
      " -1.38064084e-03 -4.04485771e-03  2.39910115e-03 -1.17700105e-03\n",
      " -2.57807946e-03 -2.13634989e-03  5.05796469e-05 -1.41516956e-05\n",
      "  2.42798544e-01 -6.42593662e-02 -1.48081175e-02  1.71468913e-02\n",
      " -7.49776104e-03  4.96773854e-02  6.31075560e-04  2.73767781e-03\n",
      " -9.82562489e-02]\n"
     ]
    }
   ],
   "source": [
    "print(cv_model.coef_)"
   ]
  },
  {
   "cell_type": "code",
   "execution_count": 38,
   "metadata": {
    "scrolled": false
   },
   "outputs": [
    {
     "name": "stdout",
     "output_type": "stream",
     "text": [
      "29 features, reduction of 0.00%\n"
     ]
    },
    {
     "data": {
      "text/plain": [
       "<matplotlib.axes._subplots.AxesSubplot at 0x1ed4f6a3e48>"
      ]
     },
     "execution_count": 38,
     "metadata": {},
     "output_type": "execute_result"
    },
    {
     "data": {
      "image/png": "[encoded data removed]",
      "text/plain": [
       "<Figure size 1440x432 with 1 Axes>"
      ]
     },
     "metadata": {
      "needs_background": "light"
     },
     "output_type": "display_data"
    }
   ],
   "source": [
    "feature_importance = pd.Series(index = train.columns, data = np.abs(model.coef_))\n",
    "\n",
    "n_selected_features = (feature_importance>0).sum()\n",
    "print('{0:d} features, reduction of {1:2.2f}%'.format(\n",
    "    n_selected_features,(1-n_selected_features/len(feature_importance))*100))\n",
    "\n",
    "feature_importance.sort_values().tail(30).plot(kind = 'bar', figsize = (20,6))"
   ]
  },
  {
   "cell_type": "code",
   "execution_count": 39,
   "metadata": {
    "scrolled": true
   },
   "outputs": [],
   "source": [
    "fs = (pd.DataFrame([feature_importance])).T\n",
    "fs.to_csv('FeatureImportance.csv',index=True)\n"
   ]
  },
  {
   "cell_type": "markdown",
   "metadata": {},
   "source": [
    "## START Stacked Regression model (Ensemble)"
   ]
  },
  {
   "cell_type": "code",
   "execution_count": 40,
   "metadata": {},
   "outputs": [],
   "source": [
    "#Define a cross validation strategy\n",
    "#Validation function\n",
    "n_folds = 5\n",
    "\n",
    "def rmsle_cv(model):\n",
    "    kf = KFold(n_folds, shuffle=True, random_state=42).get_n_splits(train.values)\n",
    "    rmse= np.sqrt(-cross_val_score(model, train.values, y_train, scoring=\"neg_mean_squared_error\", cv = kf))\n",
    "    return(rmse)"
   ]
  },
  {
   "cell_type": "code",
   "execution_count": 41,
   "metadata": {},
   "outputs": [
    {
     "name": "stdout",
     "output_type": "stream",
     "text": [
      "\n",
      "Lasso score: 0.6650 (0.2553)\n",
      "\n"
     ]
    }
   ],
   "source": [
    "#LASSO Regression :\n",
    "#This model may be very sensitive to outliers. So we need to make it more robust on them. \n",
    "#For that we use the sklearn's Robustscaler() method on pipeline\n",
    "lasso = make_pipeline(RobustScaler(), Lasso(alpha =0.0005, random_state=1))\n",
    "\n",
    "#model score on our data\n",
    "score = rmsle_cv(lasso)\n",
    "print(\"\\nLasso score: {:.4f} ({:.4f})\\n\".format(score.mean(), score.std()))\n",
    "\n"
   ]
  },
  {
   "cell_type": "code",
   "execution_count": 42,
   "metadata": {},
   "outputs": [
    {
     "name": "stdout",
     "output_type": "stream",
     "text": [
      "ElasticNet score: 0.6650 (0.2553)\n",
      "\n"
     ]
    }
   ],
   "source": [
    "#Elastic Net Regression : again made robust to outliers\n",
    "ENet = make_pipeline(RobustScaler(), ElasticNet(alpha=0.0005, l1_ratio=.9, random_state=3))\n",
    "\n",
    "#model score on our data\n",
    "score = rmsle_cv(ENet)\n",
    "print(\"ElasticNet score: {:.4f} ({:.4f})\\n\".format(score.mean(), score.std()))"
   ]
  },
  {
   "cell_type": "code",
   "execution_count": 43,
   "metadata": {},
   "outputs": [
    {
     "name": "stdout",
     "output_type": "stream",
     "text": [
      "Kernel Ridge score: 0.6574 (0.2769)\n",
      "\n"
     ]
    }
   ],
   "source": [
    "#Kernel Ridge Regression: sensitive to outliers\n",
    "KRR = KernelRidge(alpha=0.6, kernel='polynomial', degree=2, coef0=2.5)\n",
    "\n",
    "#model score on our data\n",
    "score = rmsle_cv(KRR)\n",
    "print(\"Kernel Ridge score: {:.4f} ({:.4f})\\n\".format(score.mean(), score.std()))"
   ]
  },
  {
   "cell_type": "code",
   "execution_count": 44,
   "metadata": {},
   "outputs": [
    {
     "name": "stdout",
     "output_type": "stream",
     "text": [
      "Gradient Boosting score: 0.5968 (0.2281)\n",
      "\n"
     ]
    }
   ],
   "source": [
    "#Gradient Boosting Regression : With huber loss that makes it robust to outliers\n",
    "GBoost = GradientBoostingRegressor(n_estimators=3000, learning_rate=0.05,\n",
    "                                   max_depth=4, max_features='sqrt',\n",
    "                                   min_samples_leaf=15, min_samples_split=10, \n",
    "                                   loss='huber', random_state =5)\n",
    "#model score on our data - Slowest\n",
    "score = rmsle_cv(GBoost)\n",
    "print(\"Gradient Boosting score: {:.4f} ({:.4f})\\n\".format(score.mean(), score.std()))"
   ]
  },
  {
   "cell_type": "code",
   "execution_count": 45,
   "metadata": {},
   "outputs": [
    {
     "name": "stdout",
     "output_type": "stream",
     "text": [
      "LGBM score: 0.5809 (0.2401)\n",
      "\n"
     ]
    }
   ],
   "source": [
    "#LightGBM\n",
    "model_lgb = lgb.LGBMRegressor(objective='regression',num_leaves=5,\n",
    "                              learning_rate=0.05, n_estimators=720,\n",
    "                              max_bin = 55, bagging_fraction = 0.8,\n",
    "                              bagging_freq = 5, feature_fraction = 0.2319,\n",
    "                              feature_fraction_seed=9, bagging_seed=9,\n",
    "                              min_data_in_leaf =6, min_sum_hessian_in_leaf = 11)\n",
    "\n",
    "#model score on our data\n",
    "score = rmsle_cv(model_lgb)\n",
    "print(\"LGBM score: {:.4f} ({:.4f})\\n\" .format(score.mean(), score.std()))"
   ]
  },
  {
   "cell_type": "code",
   "execution_count": 46,
   "metadata": {},
   "outputs": [],
   "source": [
    "#stacknet stacdking averaged models class\n",
    "class StackingAveragedModels(BaseEstimator, RegressorMixin, TransformerMixin):\n",
    "    def __init__(self, base_models, meta_model, n_folds=5):\n",
    "        self.base_models = base_models\n",
    "        self.meta_model = meta_model\n",
    "        self.n_folds = n_folds\n",
    "   \n",
    "    # We again fit the data on clones of the original models\n",
    "    def fit(self, X, y):\n",
    "        self.base_models_ = [list() for x in self.base_models]\n",
    "        self.meta_model_ = clone(self.meta_model)\n",
    "        kfold = KFold(n_splits=self.n_folds, shuffle=True, random_state=156)\n",
    "        \n",
    "        # Train cloned base models then create out-of-fold predictions\n",
    "        # that are needed to train the cloned meta-model\n",
    "        out_of_fold_predictions = np.zeros((X.shape[0], len(self.base_models)))\n",
    "        for i, model in enumerate(self.base_models):\n",
    "            for train_index, holdout_index in kfold.split(X, y):\n",
    "                instance = clone(model)\n",
    "                self.base_models_[i].append(instance)\n",
    "                instance.fit(X[train_index], y[train_index])\n",
    "                y_pred = instance.predict(X[holdout_index])\n",
    "                out_of_fold_predictions[holdout_index, i] = y_pred\n",
    "                \n",
    "        # Now train the cloned  meta-model using the out-of-fold predictions as new feature\n",
    "        self.meta_model_.fit(out_of_fold_predictions, y)\n",
    "        return self\n",
    "   \n",
    "    #Do the predictions of all base models on the test data and use the averaged predictions as \n",
    "    #meta-features for the final prediction which is done by the meta-model\n",
    "    def predict(self, X):\n",
    "        meta_features = np.column_stack([\n",
    "            np.column_stack([model.predict(X) for model in base_models]).mean(axis=1)\n",
    "            for base_models in self.base_models_ ])\n",
    "        return self.meta_model_.predict(meta_features)"
   ]
  },
  {
   "cell_type": "code",
   "execution_count": 47,
   "metadata": {
    "scrolled": true
   },
   "outputs": [],
   "source": [
    "#implement stacknet stacking averaged models\n",
    "stacked_averaged_models = StackingAveragedModels(base_models = (ENet, GBoost, KRR),\n",
    "                                                 meta_model = lasso)"
   ]
  },
  {
   "cell_type": "code",
   "execution_count": null,
   "metadata": {},
   "outputs": [],
   "source": [
    "#to add other models into the stacked model\n",
    "#define rmsle evaluation function\n",
    "def rmsle(y, y_pred):\n",
    "    return np.sqrt(mean_squared_error(y, y_pred))"
   ]
  },
  {
   "cell_type": "code",
   "execution_count": null,
   "metadata": {},
   "outputs": [],
   "source": [
    "#training and prediction for stackedregressor\n",
    "stacked_averaged_models.fit(train.values, y_train)\n",
    "stacked_train_pred = stacked_averaged_models.predict(train.values)\n",
    "stacked_pred = np.expm1(stacked_averaged_models.predict(test.values))\n",
    "print(rmsle(y_train, stacked_train_pred))"
   ]
  }
 ],
 "metadata": {
  "anaconda-cloud": {},
  "kernelspec": {
   "display_name": "Python 3",
   "language": "python",
   "name": "python3"
  },
  "language_info": {
   "codemirror_mode": {
    "name": "ipython",
    "version": 3
   },
   "file_extension": ".py",
   "mimetype": "text/x-python",
   "name": "python",
   "nbconvert_exporter": "python",
   "pygments_lexer": "ipython3",
   "version": "3.7.1"
  }
 },
 "nbformat": 4,
 "nbformat_minor": 1
}
